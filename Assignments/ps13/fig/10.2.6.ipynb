{
 "cells": [
  {
   "attachments": {},
   "cell_type": "markdown",
   "metadata": {},
   "source": [
    "# Packages and Config"
   ]
  },
  {
   "cell_type": "code",
   "execution_count": 1,
   "metadata": {},
   "outputs": [],
   "source": [
    "using Plots, LaTeXStrings\n",
    "using Statistics: mean\n",
    "Plots.default(fontfamily=\"Computer Modern\", titlefontsize=16, tickfontsize=8, labelfontsize=12,\n",
    "    ms=0.5, msw=0, legend=false, color=:black, marker=:rect, alpha=0.1,\n",
    "    xlabel=L\"r\", ylabel=L\"x_n\",)"
   ]
  },
  {
   "cell_type": "code",
   "execution_count": null,
   "metadata": {},
   "outputs": [],
   "source": [
    "function cosmap(x::Matrix{<:Number}, r::Vector{<:Number})\n",
    "    return @. r * cos(x)\n",
    "end"
   ]
  },
  {
   "cell_type": "code",
   "execution_count": null,
   "metadata": {},
   "outputs": [],
   "source": [
    "rcount = 2001\n",
    "rs = collect(range(-10, 10, length=rcount))"
   ]
  },
  {
   "attachments": {},
   "cell_type": "markdown",
   "metadata": {},
   "source": [
    "# Animation"
   ]
  },
  {
   "cell_type": "code",
   "execution_count": null,
   "metadata": {},
   "outputs": [],
   "source": [
    "xs = rand(rcount, 100)\n",
    "anim = @animate for n in 1:20\n",
    "    global xs = cosmap(xs, rs)\n",
    "    scatter(rs, xs, ms=0.5, msw=0, xlims=(-10, 10), ylims = (-10, 10), marker=:rect,\n",
    "        legend=false, color=:black, xlabel=L\"r\", ylabel=L\"x_n\", dpi=120,\n",
    "        title=\"\\$\\\\textrm{Logistic\\\\ Map}\\\\quad x_{n+1} = r\\\\mathrm{cos}(x_n),\\\\quad n=$n\\$\")\n",
    "end\n",
    "gif(anim, \"10.2.6.gif\", fps=4)"
   ]
  },
  {
   "attachments": {},
   "cell_type": "markdown",
   "metadata": {},
   "source": [
    "# Plot"
   ]
  },
  {
   "cell_type": "code",
   "execution_count": 10,
   "metadata": {},
   "outputs": [],
   "source": [
    "xs = rand(rcount, 1000)\n",
    "for _ in 1:10^3\n",
    "    xs = cosmap(xs, rs)\n",
    "end"
   ]
  },
  {
   "cell_type": "code",
   "execution_count": null,
   "metadata": {},
   "outputs": [],
   "source": [
    "p = scatter(rs, xs, xlims=(-10, 10), ylims = (-10, 10), dpi=600, xlabel=L\"r\", ylabel=L\"x\", ms=0.2,\n",
    "    title=\"\\$\\\\textrm{Logistic\\\\ Map}\\\\quad x_{n+1} = r\\\\mathrm{cos}(x_n),\\\\quad n=1000\\$\")\n",
    "savefig(\"10.2.6.png\")\n",
    "display(p)"
   ]
  }
 ],
 "metadata": {
  "kernelspec": {
   "display_name": "Julia 1.9.0",
   "language": "julia",
   "name": "julia-1.9"
  },
  "language_info": {
   "file_extension": ".jl",
   "mimetype": "application/julia",
   "name": "julia",
   "version": "1.9.0"
  },
  "orig_nbformat": 4
 },
 "nbformat": 4,
 "nbformat_minor": 2
}
